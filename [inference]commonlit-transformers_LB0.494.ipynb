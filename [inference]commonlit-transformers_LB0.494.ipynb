{
 "cells": [
  {
   "cell_type": "code",
   "execution_count": 1,
   "id": "confused-bulgaria",
   "metadata": {
    "_cell_guid": "b1076dfc-b9ad-4769-8c92-a6c4dae69d19",
    "_uuid": "8f2839f25d086af736a60e9eeb907d3b93b6e0e5",
    "execution": {
     "iopub.execute_input": "2021-05-19T13:46:09.133164Z",
     "iopub.status.busy": "2021-05-19T13:46:09.131723Z",
     "iopub.status.idle": "2021-05-19T13:46:11.027855Z",
     "shell.execute_reply": "2021-05-19T13:46:11.027197Z"
    },
    "papermill": {
     "duration": 1.907185,
     "end_time": "2021-05-19T13:46:11.028007",
     "exception": false,
     "start_time": "2021-05-19T13:46:09.120822",
     "status": "completed"
    },
    "tags": []
   },
   "outputs": [],
   "source": [
    "import torch\n",
    "import pandas as pd\n",
    "import numpy as np\n",
    "from transformers import AutoModelForSequenceClassification, AutoTokenizer\n",
    "\n",
    "device = torch.device(\"cuda\" if torch.cuda.is_available() else \"cpu\")\n",
    "torch.backends.cudnn.benchmark = True"
   ]
  },
  {
   "cell_type": "code",
   "execution_count": 2,
   "id": "roman-governor",
   "metadata": {
    "execution": {
     "iopub.execute_input": "2021-05-19T13:46:11.045928Z",
     "iopub.status.busy": "2021-05-19T13:46:11.044944Z",
     "iopub.status.idle": "2021-05-19T13:46:11.047477Z",
     "shell.execute_reply": "2021-05-19T13:46:11.047098Z"
    },
    "papermill": {
     "duration": 0.013756,
     "end_time": "2021-05-19T13:46:11.047598",
     "exception": false,
     "start_time": "2021-05-19T13:46:11.033842",
     "status": "completed"
    },
    "tags": []
   },
   "outputs": [],
   "source": [
    "class Dataset:\n",
    "    def __init__(self, excerpt, tokenizer, max_len):\n",
    "        self.excerpt = excerpt\n",
    "        self.tokenizer = tokenizer\n",
    "        self.max_len = max_len\n",
    "\n",
    "    def __len__(self):\n",
    "        return len(self.excerpt)\n",
    "\n",
    "    def __getitem__(self, item):\n",
    "        text = str(self.excerpt[item])\n",
    "        inputs = self.tokenizer(\n",
    "            text, \n",
    "            max_length=self.max_len, \n",
    "            padding=\"max_length\", \n",
    "            truncation=True\n",
    "        )\n",
    "\n",
    "        ids = inputs[\"input_ids\"]\n",
    "        mask = inputs[\"attention_mask\"]\n",
    "\n",
    "        return {\n",
    "            \"input_ids\": torch.tensor(ids, dtype=torch.long),\n",
    "            \"attention_mask\": torch.tensor(mask, dtype=torch.long),\n",
    "        }"
   ]
  },
  {
   "cell_type": "code",
   "execution_count": 3,
   "id": "pretty-cincinnati",
   "metadata": {
    "execution": {
     "iopub.execute_input": "2021-05-19T13:46:11.064872Z",
     "iopub.status.busy": "2021-05-19T13:46:11.064175Z",
     "iopub.status.idle": "2021-05-19T13:46:11.066863Z",
     "shell.execute_reply": "2021-05-19T13:46:11.066461Z"
    },
    "papermill": {
     "duration": 0.014658,
     "end_time": "2021-05-19T13:46:11.067136",
     "exception": false,
     "start_time": "2021-05-19T13:46:11.052478",
     "status": "completed"
    },
    "tags": []
   },
   "outputs": [],
   "source": [
    "def generate_predictions(model_path,weight_path, max_len):\n",
    "    model = AutoModelForSequenceClassification.from_pretrained(model_path,num_labels=1)\n",
    "    model.load_state_dict(torch.load(weight_path,map_location=device))\n",
    "    tokenizer = AutoTokenizer.from_pretrained(model_path)\n",
    "\n",
    "    model = model.to(device)\n",
    "    model.eval()\n",
    "    df = pd.read_csv(\"../input/commonlitreadabilityprize/test.csv\")\n",
    "    dataset = Dataset(excerpt=df.excerpt.values, tokenizer=tokenizer, max_len=max_len)\n",
    "    data_loader = torch.utils.data.DataLoader(\n",
    "        dataset, batch_size=16, num_workers=2, pin_memory=True, shuffle=False, drop_last=False\n",
    "    )\n",
    "    final_output = []\n",
    "\n",
    "    for b_idx, data in enumerate(data_loader):\n",
    "        with torch.no_grad():\n",
    "            for key, value in data.items():\n",
    "                data[key] = value.to(device)\n",
    "            output = model(**data)\n",
    "            output = output.logits.squeeze(-1).detach().cpu().numpy()\n",
    "            final_output = np.append(final_output,output)\n",
    "    \n",
    "    torch.cuda.empty_cache()\n",
    "    return final_output"
   ]
  },
  {
   "cell_type": "code",
   "execution_count": 4,
   "id": "advised-option",
   "metadata": {
    "execution": {
     "iopub.execute_input": "2021-05-19T13:46:11.082104Z",
     "iopub.status.busy": "2021-05-19T13:46:11.081587Z",
     "iopub.status.idle": "2021-05-19T13:46:50.675644Z",
     "shell.execute_reply": "2021-05-19T13:46:50.674801Z"
    },
    "papermill": {
     "duration": 39.603623,
     "end_time": "2021-05-19T13:46:50.675788",
     "exception": false,
     "start_time": "2021-05-19T13:46:11.072165",
     "status": "completed"
    },
    "tags": []
   },
   "outputs": [
    {
     "name": "stderr",
     "output_type": "stream",
     "text": [
      "Some weights of the model checkpoint at ../input/roberta-transformers-pytorch/distilroberta-base/ were not used when initializing RobertaForSequenceClassification: ['pooler.dense.weight', 'pooler.dense.bias']\n",
      "- This IS expected if you are initializing RobertaForSequenceClassification from the checkpoint of a model trained on another task or with another architecture (e.g. initializing a BertForSequenceClassification model from a BertForPreTraining model).\n",
      "- This IS NOT expected if you are initializing RobertaForSequenceClassification from the checkpoint of a model that you expect to be exactly identical (initializing a BertForSequenceClassification model from a BertForSequenceClassification model).\n",
      "Some weights of RobertaForSequenceClassification were not initialized from the model checkpoint at ../input/roberta-transformers-pytorch/distilroberta-base/ and are newly initialized: ['classifier.dense.bias', 'classifier.out_proj.weight', 'classifier.dense.weight', 'classifier.out_proj.bias']\n",
      "You should probably TRAIN this model on a down-stream task to be able to use it for predictions and inference.\n",
      "Some weights of the model checkpoint at ../input/roberta-transformers-pytorch/distilroberta-base/ were not used when initializing RobertaForSequenceClassification: ['pooler.dense.weight', 'pooler.dense.bias']\n",
      "- This IS expected if you are initializing RobertaForSequenceClassification from the checkpoint of a model trained on another task or with another architecture (e.g. initializing a BertForSequenceClassification model from a BertForPreTraining model).\n",
      "- This IS NOT expected if you are initializing RobertaForSequenceClassification from the checkpoint of a model that you expect to be exactly identical (initializing a BertForSequenceClassification model from a BertForSequenceClassification model).\n",
      "Some weights of RobertaForSequenceClassification were not initialized from the model checkpoint at ../input/roberta-transformers-pytorch/distilroberta-base/ and are newly initialized: ['classifier.dense.bias', 'classifier.out_proj.weight', 'classifier.dense.weight', 'classifier.out_proj.bias']\n",
      "You should probably TRAIN this model on a down-stream task to be able to use it for predictions and inference.\n",
      "Some weights of the model checkpoint at ../input/roberta-transformers-pytorch/distilroberta-base/ were not used when initializing RobertaForSequenceClassification: ['pooler.dense.weight', 'pooler.dense.bias']\n",
      "- This IS expected if you are initializing RobertaForSequenceClassification from the checkpoint of a model trained on another task or with another architecture (e.g. initializing a BertForSequenceClassification model from a BertForPreTraining model).\n",
      "- This IS NOT expected if you are initializing RobertaForSequenceClassification from the checkpoint of a model that you expect to be exactly identical (initializing a BertForSequenceClassification model from a BertForSequenceClassification model).\n",
      "Some weights of RobertaForSequenceClassification were not initialized from the model checkpoint at ../input/roberta-transformers-pytorch/distilroberta-base/ and are newly initialized: ['classifier.dense.bias', 'classifier.out_proj.weight', 'classifier.dense.weight', 'classifier.out_proj.bias']\n",
      "You should probably TRAIN this model on a down-stream task to be able to use it for predictions and inference.\n",
      "Some weights of the model checkpoint at ../input/roberta-transformers-pytorch/distilroberta-base/ were not used when initializing RobertaForSequenceClassification: ['pooler.dense.weight', 'pooler.dense.bias']\n",
      "- This IS expected if you are initializing RobertaForSequenceClassification from the checkpoint of a model trained on another task or with another architecture (e.g. initializing a BertForSequenceClassification model from a BertForPreTraining model).\n",
      "- This IS NOT expected if you are initializing RobertaForSequenceClassification from the checkpoint of a model that you expect to be exactly identical (initializing a BertForSequenceClassification model from a BertForSequenceClassification model).\n",
      "Some weights of RobertaForSequenceClassification were not initialized from the model checkpoint at ../input/roberta-transformers-pytorch/distilroberta-base/ and are newly initialized: ['classifier.dense.bias', 'classifier.out_proj.weight', 'classifier.dense.weight', 'classifier.out_proj.bias']\n",
      "You should probably TRAIN this model on a down-stream task to be able to use it for predictions and inference.\n",
      "Some weights of the model checkpoint at ../input/roberta-transformers-pytorch/distilroberta-base/ were not used when initializing RobertaForSequenceClassification: ['pooler.dense.weight', 'pooler.dense.bias']\n",
      "- This IS expected if you are initializing RobertaForSequenceClassification from the checkpoint of a model trained on another task or with another architecture (e.g. initializing a BertForSequenceClassification model from a BertForPreTraining model).\n",
      "- This IS NOT expected if you are initializing RobertaForSequenceClassification from the checkpoint of a model that you expect to be exactly identical (initializing a BertForSequenceClassification model from a BertForSequenceClassification model).\n",
      "Some weights of RobertaForSequenceClassification were not initialized from the model checkpoint at ../input/roberta-transformers-pytorch/distilroberta-base/ and are newly initialized: ['classifier.dense.bias', 'classifier.out_proj.weight', 'classifier.dense.weight', 'classifier.out_proj.bias']\n",
      "You should probably TRAIN this model on a down-stream task to be able to use it for predictions and inference.\n"
     ]
    },
    {
     "data": {
      "text/plain": [
       "'\\npreds6 = generate_predictions(model_path=\"../input/roberta-transformers-pytorch/distilroberta-base/\",\\n                              weight_path=\"../input/commonlitreadability-weight/distilroberta-base_fold2_acc0.516_len280.pt\",\\n                              max_len=280)\\n'"
      ]
     },
     "execution_count": 4,
     "metadata": {},
     "output_type": "execute_result"
    }
   ],
   "source": [
    "preds1 = generate_predictions(model_path=\"../input/roberta-transformers-pytorch/distilroberta-base/\",\n",
    "                              weight_path=\"../input/commonlitreadability-weight/distilroberta-base_fold1_acc0.491.pt\",\n",
    "                              max_len=256)\n",
    "preds2 = generate_predictions(model_path=\"../input/roberta-transformers-pytorch/distilroberta-base/\",\n",
    "                              weight_path=\"../input/commonlitreadability-weight/distilroberta-base_fold2_0.519.pt\", \n",
    "                              max_len=256)\n",
    "preds3 = generate_predictions(model_path=\"../input/roberta-transformers-pytorch/distilroberta-base/\",\n",
    "                              weight_path=\"../input/commonlitreadability-weight/distilroberta-base_fold3_0.50.pt\", \n",
    "                              max_len=256)\n",
    "preds4 = generate_predictions(model_path=\"../input/roberta-transformers-pytorch/distilroberta-base/\",\n",
    "                              weight_path=\"../input/commonlitreadability-weight/distilroberta-base_fold4_acc0.51.pt\",\n",
    "                              max_len=256)\n",
    "preds5 = generate_predictions(model_path=\"../input/roberta-transformers-pytorch/distilroberta-base/\",\n",
    "                              weight_path=\"../input/commonlitreadability-weight/distilroberta-base_fold5_0.498.pt\",\n",
    "                              max_len=256)\n",
    "\"\"\"\n",
    "preds6 = generate_predictions(model_path=\"../input/roberta-transformers-pytorch/distilroberta-base/\",\n",
    "                              weight_path=\"../input/commonlitreadability-weight/distilroberta-base_fold2_acc0.516_len280.pt\",\n",
    "                              max_len=280)\n",
    "\"\"\""
   ]
  },
  {
   "cell_type": "code",
   "execution_count": 5,
   "id": "adapted-gabriel",
   "metadata": {
    "execution": {
     "iopub.execute_input": "2021-05-19T13:46:50.698663Z",
     "iopub.status.busy": "2021-05-19T13:46:50.697009Z",
     "iopub.status.idle": "2021-05-19T13:46:50.699347Z",
     "shell.execute_reply": "2021-05-19T13:46:50.699758Z"
    },
    "papermill": {
     "duration": 0.015263,
     "end_time": "2021-05-19T13:46:50.699888",
     "exception": false,
     "start_time": "2021-05-19T13:46:50.684625",
     "status": "completed"
    },
    "tags": []
   },
   "outputs": [],
   "source": [
    "preds = (preds5 + preds4 + preds3 + preds2 + preds1)/5\n",
    "#preds = (preds5 + preds3)/2"
   ]
  },
  {
   "cell_type": "code",
   "execution_count": 6,
   "id": "center-lodging",
   "metadata": {
    "execution": {
     "iopub.execute_input": "2021-05-19T13:46:50.722593Z",
     "iopub.status.busy": "2021-05-19T13:46:50.721748Z",
     "iopub.status.idle": "2021-05-19T13:46:50.863860Z",
     "shell.execute_reply": "2021-05-19T13:46:50.864324Z"
    },
    "papermill": {
     "duration": 0.156221,
     "end_time": "2021-05-19T13:46:50.864474",
     "exception": false,
     "start_time": "2021-05-19T13:46:50.708253",
     "status": "completed"
    },
    "tags": []
   },
   "outputs": [
    {
     "data": {
      "text/html": [
       "<div>\n",
       "<style scoped>\n",
       "    .dataframe tbody tr th:only-of-type {\n",
       "        vertical-align: middle;\n",
       "    }\n",
       "\n",
       "    .dataframe tbody tr th {\n",
       "        vertical-align: top;\n",
       "    }\n",
       "\n",
       "    .dataframe thead th {\n",
       "        text-align: right;\n",
       "    }\n",
       "</style>\n",
       "<table border=\"1\" class=\"dataframe\">\n",
       "  <thead>\n",
       "    <tr style=\"text-align: right;\">\n",
       "      <th></th>\n",
       "      <th>id</th>\n",
       "      <th>target</th>\n",
       "    </tr>\n",
       "  </thead>\n",
       "  <tbody>\n",
       "    <tr>\n",
       "      <th>0</th>\n",
       "      <td>c0f722661</td>\n",
       "      <td>-0.538886</td>\n",
       "    </tr>\n",
       "    <tr>\n",
       "      <th>1</th>\n",
       "      <td>f0953f0a5</td>\n",
       "      <td>-0.366744</td>\n",
       "    </tr>\n",
       "    <tr>\n",
       "      <th>2</th>\n",
       "      <td>0df072751</td>\n",
       "      <td>-0.342690</td>\n",
       "    </tr>\n",
       "    <tr>\n",
       "      <th>3</th>\n",
       "      <td>04caf4e0c</td>\n",
       "      <td>-2.632129</td>\n",
       "    </tr>\n",
       "    <tr>\n",
       "      <th>4</th>\n",
       "      <td>0e63f8bea</td>\n",
       "      <td>-1.911068</td>\n",
       "    </tr>\n",
       "    <tr>\n",
       "      <th>5</th>\n",
       "      <td>12537fe78</td>\n",
       "      <td>-1.272275</td>\n",
       "    </tr>\n",
       "    <tr>\n",
       "      <th>6</th>\n",
       "      <td>965e592c0</td>\n",
       "      <td>0.322191</td>\n",
       "    </tr>\n",
       "  </tbody>\n",
       "</table>\n",
       "</div>"
      ],
      "text/plain": [
       "          id    target\n",
       "0  c0f722661 -0.538886\n",
       "1  f0953f0a5 -0.366744\n",
       "2  0df072751 -0.342690\n",
       "3  04caf4e0c -2.632129\n",
       "4  0e63f8bea -1.911068\n",
       "5  12537fe78 -1.272275\n",
       "6  965e592c0  0.322191"
      ]
     },
     "execution_count": 6,
     "metadata": {},
     "output_type": "execute_result"
    }
   ],
   "source": [
    "test_df = pd.read_csv('/kaggle/input/commonlitreadabilityprize/test.csv')\n",
    "predictions = pd.DataFrame()\n",
    "predictions['id'] = test_df['id']\n",
    "predictions['target'] = preds\n",
    "predictions.to_csv(\"/kaggle/working/submission.csv\", index=False)\n",
    "predictions"
   ]
  },
  {
   "cell_type": "code",
   "execution_count": null,
   "id": "split-criticism",
   "metadata": {
    "papermill": {
     "duration": 0.009244,
     "end_time": "2021-05-19T13:46:50.883374",
     "exception": false,
     "start_time": "2021-05-19T13:46:50.874130",
     "status": "completed"
    },
    "tags": []
   },
   "outputs": [],
   "source": []
  }
 ],
 "metadata": {
  "kernelspec": {
   "display_name": "Python 3",
   "language": "python",
   "name": "python3"
  },
  "language_info": {
   "codemirror_mode": {
    "name": "ipython",
    "version": 3
   },
   "file_extension": ".py",
   "mimetype": "text/x-python",
   "name": "python",
   "nbconvert_exporter": "python",
   "pygments_lexer": "ipython3",
   "version": "3.7.10"
  },
  "papermill": {
   "default_parameters": {},
   "duration": 50.659399,
   "end_time": "2021-05-19T13:46:53.139997",
   "environment_variables": {},
   "exception": null,
   "input_path": "__notebook__.ipynb",
   "output_path": "__notebook__.ipynb",
   "parameters": {},
   "start_time": "2021-05-19T13:46:02.480598",
   "version": "2.3.3"
  }
 },
 "nbformat": 4,
 "nbformat_minor": 5
}
