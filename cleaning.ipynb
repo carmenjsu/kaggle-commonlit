{
 "metadata": {
  "language_info": {
   "codemirror_mode": {
    "name": "ipython",
    "version": 3
   },
   "file_extension": ".py",
   "mimetype": "text/x-python",
   "name": "python",
   "nbconvert_exporter": "python",
   "pygments_lexer": "ipython3",
   "version": "3.7.5"
  },
  "orig_nbformat": 2,
  "kernelspec": {
   "name": "python375jvsc74a57bd0c8bb34ad1b875d3161ce3302675f29779661d4a35ffbd1d17a3da28b3132449a",
   "display_name": "Python 3.7.5 64-bit"
  },
  "metadata": {
   "interpreter": {
    "hash": "c8bb34ad1b875d3161ce3302675f29779661d4a35ffbd1d17a3da28b3132449a"
   }
  }
 },
 "nbformat": 4,
 "nbformat_minor": 2,
 "cells": [
  {
   "cell_type": "code",
   "execution_count": 51,
   "metadata": {},
   "outputs": [],
   "source": [
    "import pandas as pd\n",
    "import nltk\n",
    "from nltk.corpus import stopwords"
   ]
  },
  {
   "cell_type": "code",
   "execution_count": 52,
   "metadata": {},
   "outputs": [
    {
     "output_type": "execute_result",
     "data": {
      "text/plain": [
       "             id                                          url_legal  \\\n",
       "0     c12129c31                                                NaN   \n",
       "1     85aa80a4c                                                NaN   \n",
       "2     b69ac6792                                                NaN   \n",
       "3     dd1000b26                                                NaN   \n",
       "4     37c1b32fb                                                NaN   \n",
       "...         ...                                                ...   \n",
       "2829  25ca8f498  https://sites.ehe.osu.edu/beyondpenguins/files...   \n",
       "2830  2c26db523  https://en.wikibooks.org/wiki/Wikijunior:The_E...   \n",
       "2831  cd19e2350  https://en.wikibooks.org/wiki/Wikijunior:The_E...   \n",
       "2832  15e2e9e7a  https://en.wikibooks.org/wiki/Geometry_for_Ele...   \n",
       "2833  5b990ba77  https://en.wikibooks.org/wiki/Wikijunior:Biolo...   \n",
       "\n",
       "           license                                            excerpt  \\\n",
       "0              NaN  When the young people returned to the ballroom...   \n",
       "1              NaN  All through dinner time, Mrs. Fayre was somewh...   \n",
       "2              NaN  As Roger had predicted, the snow departed as q...   \n",
       "3              NaN  And outside before the palace a great garden w...   \n",
       "4              NaN  Once upon a time there were Three Bears who li...   \n",
       "...            ...                                                ...   \n",
       "2829  CC BY-SA 3.0  When you think of dinosaurs and where they liv...   \n",
       "2830  CC BY-SA 3.0  So what is a solid? Solids are usually hard be...   \n",
       "2831  CC BY-SA 3.0  The second state of matter we will discuss is ...   \n",
       "2832  CC BY-SA 3.0  Solids are shapes that you can actually touch....   \n",
       "2833  CC BY-SA 3.0  Animals are made of many cells. They eat thing...   \n",
       "\n",
       "        target  standard_error  \n",
       "0    -0.340259        0.464009  \n",
       "1    -0.315372        0.480805  \n",
       "2    -0.580118        0.476676  \n",
       "3    -1.054013        0.450007  \n",
       "4     0.247197        0.510845  \n",
       "...        ...             ...  \n",
       "2829  1.711390        0.646900  \n",
       "2830  0.189476        0.535648  \n",
       "2831  0.255209        0.483866  \n",
       "2832 -0.215279        0.514128  \n",
       "2833  0.300779        0.512379  \n",
       "\n",
       "[2834 rows x 6 columns]"
      ],
      "text/html": "<div>\n<style scoped>\n    .dataframe tbody tr th:only-of-type {\n        vertical-align: middle;\n    }\n\n    .dataframe tbody tr th {\n        vertical-align: top;\n    }\n\n    .dataframe thead th {\n        text-align: right;\n    }\n</style>\n<table border=\"1\" class=\"dataframe\">\n  <thead>\n    <tr style=\"text-align: right;\">\n      <th></th>\n      <th>id</th>\n      <th>url_legal</th>\n      <th>license</th>\n      <th>excerpt</th>\n      <th>target</th>\n      <th>standard_error</th>\n    </tr>\n  </thead>\n  <tbody>\n    <tr>\n      <th>0</th>\n      <td>c12129c31</td>\n      <td>NaN</td>\n      <td>NaN</td>\n      <td>When the young people returned to the ballroom...</td>\n      <td>-0.340259</td>\n      <td>0.464009</td>\n    </tr>\n    <tr>\n      <th>1</th>\n      <td>85aa80a4c</td>\n      <td>NaN</td>\n      <td>NaN</td>\n      <td>All through dinner time, Mrs. Fayre was somewh...</td>\n      <td>-0.315372</td>\n      <td>0.480805</td>\n    </tr>\n    <tr>\n      <th>2</th>\n      <td>b69ac6792</td>\n      <td>NaN</td>\n      <td>NaN</td>\n      <td>As Roger had predicted, the snow departed as q...</td>\n      <td>-0.580118</td>\n      <td>0.476676</td>\n    </tr>\n    <tr>\n      <th>3</th>\n      <td>dd1000b26</td>\n      <td>NaN</td>\n      <td>NaN</td>\n      <td>And outside before the palace a great garden w...</td>\n      <td>-1.054013</td>\n      <td>0.450007</td>\n    </tr>\n    <tr>\n      <th>4</th>\n      <td>37c1b32fb</td>\n      <td>NaN</td>\n      <td>NaN</td>\n      <td>Once upon a time there were Three Bears who li...</td>\n      <td>0.247197</td>\n      <td>0.510845</td>\n    </tr>\n    <tr>\n      <th>...</th>\n      <td>...</td>\n      <td>...</td>\n      <td>...</td>\n      <td>...</td>\n      <td>...</td>\n      <td>...</td>\n    </tr>\n    <tr>\n      <th>2829</th>\n      <td>25ca8f498</td>\n      <td>https://sites.ehe.osu.edu/beyondpenguins/files...</td>\n      <td>CC BY-SA 3.0</td>\n      <td>When you think of dinosaurs and where they liv...</td>\n      <td>1.711390</td>\n      <td>0.646900</td>\n    </tr>\n    <tr>\n      <th>2830</th>\n      <td>2c26db523</td>\n      <td>https://en.wikibooks.org/wiki/Wikijunior:The_E...</td>\n      <td>CC BY-SA 3.0</td>\n      <td>So what is a solid? Solids are usually hard be...</td>\n      <td>0.189476</td>\n      <td>0.535648</td>\n    </tr>\n    <tr>\n      <th>2831</th>\n      <td>cd19e2350</td>\n      <td>https://en.wikibooks.org/wiki/Wikijunior:The_E...</td>\n      <td>CC BY-SA 3.0</td>\n      <td>The second state of matter we will discuss is ...</td>\n      <td>0.255209</td>\n      <td>0.483866</td>\n    </tr>\n    <tr>\n      <th>2832</th>\n      <td>15e2e9e7a</td>\n      <td>https://en.wikibooks.org/wiki/Geometry_for_Ele...</td>\n      <td>CC BY-SA 3.0</td>\n      <td>Solids are shapes that you can actually touch....</td>\n      <td>-0.215279</td>\n      <td>0.514128</td>\n    </tr>\n    <tr>\n      <th>2833</th>\n      <td>5b990ba77</td>\n      <td>https://en.wikibooks.org/wiki/Wikijunior:Biolo...</td>\n      <td>CC BY-SA 3.0</td>\n      <td>Animals are made of many cells. They eat thing...</td>\n      <td>0.300779</td>\n      <td>0.512379</td>\n    </tr>\n  </tbody>\n</table>\n<p>2834 rows × 6 columns</p>\n</div>"
     },
     "metadata": {},
     "execution_count": 52
    }
   ],
   "source": [
    "df = pd.read_csv(\"data/train.csv\")\n",
    "df"
   ]
  },
  {
   "cell_type": "code",
   "execution_count": 53,
   "metadata": {},
   "outputs": [],
   "source": [
    "stop = stopwords.words('english')"
   ]
  },
  {
   "cell_type": "code",
   "execution_count": 54,
   "metadata": {},
   "outputs": [],
   "source": [
    "df_train_X = df['excerpt'].apply(lambda x: ' '.join([word for word in x.split() if word not in (stop)]))"
   ]
  },
  {
   "cell_type": "code",
   "execution_count": 55,
   "metadata": {},
   "outputs": [
    {
     "output_type": "execute_result",
     "data": {
      "text/plain": [
       "                                                excerpt    target\n",
       "0     When young people returned ballroom, presented... -0.340259\n",
       "1     All dinner time, Mrs. Fayre somewhat silent, e... -0.315372\n",
       "2     As Roger predicted, snow departed quickly came... -0.580118\n",
       "3     And outside palace great garden walled round, ... -1.054013\n",
       "4     Once upon time Three Bears lived together hous...  0.247197\n",
       "...                                                 ...       ...\n",
       "2829  When think dinosaurs lived, picture? Do see ho...  1.711390\n",
       "2830  So solid? Solids usually hard molecules packed...  0.189476\n",
       "2831  The second state matter discuss liquid. Solids...  0.255209\n",
       "2832  Solids shapes actually touch. They three dimen... -0.215279\n",
       "2833  Animals made many cells. They eat things diges...  0.300779\n",
       "\n",
       "[2834 rows x 2 columns]"
      ],
      "text/html": "<div>\n<style scoped>\n    .dataframe tbody tr th:only-of-type {\n        vertical-align: middle;\n    }\n\n    .dataframe tbody tr th {\n        vertical-align: top;\n    }\n\n    .dataframe thead th {\n        text-align: right;\n    }\n</style>\n<table border=\"1\" class=\"dataframe\">\n  <thead>\n    <tr style=\"text-align: right;\">\n      <th></th>\n      <th>excerpt</th>\n      <th>target</th>\n    </tr>\n  </thead>\n  <tbody>\n    <tr>\n      <th>0</th>\n      <td>When young people returned ballroom, presented...</td>\n      <td>-0.340259</td>\n    </tr>\n    <tr>\n      <th>1</th>\n      <td>All dinner time, Mrs. Fayre somewhat silent, e...</td>\n      <td>-0.315372</td>\n    </tr>\n    <tr>\n      <th>2</th>\n      <td>As Roger predicted, snow departed quickly came...</td>\n      <td>-0.580118</td>\n    </tr>\n    <tr>\n      <th>3</th>\n      <td>And outside palace great garden walled round, ...</td>\n      <td>-1.054013</td>\n    </tr>\n    <tr>\n      <th>4</th>\n      <td>Once upon time Three Bears lived together hous...</td>\n      <td>0.247197</td>\n    </tr>\n    <tr>\n      <th>...</th>\n      <td>...</td>\n      <td>...</td>\n    </tr>\n    <tr>\n      <th>2829</th>\n      <td>When think dinosaurs lived, picture? Do see ho...</td>\n      <td>1.711390</td>\n    </tr>\n    <tr>\n      <th>2830</th>\n      <td>So solid? Solids usually hard molecules packed...</td>\n      <td>0.189476</td>\n    </tr>\n    <tr>\n      <th>2831</th>\n      <td>The second state matter discuss liquid. Solids...</td>\n      <td>0.255209</td>\n    </tr>\n    <tr>\n      <th>2832</th>\n      <td>Solids shapes actually touch. They three dimen...</td>\n      <td>-0.215279</td>\n    </tr>\n    <tr>\n      <th>2833</th>\n      <td>Animals made many cells. They eat things diges...</td>\n      <td>0.300779</td>\n    </tr>\n  </tbody>\n</table>\n<p>2834 rows × 2 columns</p>\n</div>"
     },
     "metadata": {},
     "execution_count": 55
    }
   ],
   "source": [
    "df_train_wo = pd.DataFrame(df_train_X)\n",
    "df_train_wo['target'] = df[['target']]\n",
    "df_train_wo"
   ]
  },
  {
   "cell_type": "code",
   "execution_count": 56,
   "metadata": {},
   "outputs": [],
   "source": [
    "df_train_wo.to_csv('data/cleaned df_train without stopword.csv', index=False)"
   ]
  },
  {
   "cell_type": "code",
   "execution_count": 57,
   "metadata": {},
   "outputs": [
    {
     "output_type": "stream",
     "name": "stderr",
     "text": [
      "ipykernel_launcher:2: SettingWithCopyWarning: \nA value is trying to be set on a copy of a slice from a DataFrame.\nTry using .loc[row_indexer,col_indexer] = value instead\n\nSee the caveats in the documentation: https://pandas.pydata.org/pandas-docs/stable/user_guide/indexing.html#returning-a-view-versus-a-copy\n"
     ]
    },
    {
     "output_type": "execute_result",
     "data": {
      "text/plain": [
       "                                                excerpt    target\n",
       "0     When the young people returned to the ballroom... -0.340259\n",
       "1     All through dinner time, Mrs. Fayre was somewh... -0.315372\n",
       "2     As Roger had predicted, the snow departed as q... -0.580118\n",
       "3     And outside before the palace a great garden w... -1.054013\n",
       "4     Once upon a time there were Three Bears who li...  0.247197\n",
       "...                                                 ...       ...\n",
       "2829  When you think of dinosaurs and where they liv...  1.711390\n",
       "2830  So what is a solid? Solids are usually hard be...  0.189476\n",
       "2831  The second state of matter we will discuss is ...  0.255209\n",
       "2832  Solids are shapes that you can actually touch.... -0.215279\n",
       "2833  Animals are made of many cells. They eat thing...  0.300779\n",
       "\n",
       "[2834 rows x 2 columns]"
      ],
      "text/html": "<div>\n<style scoped>\n    .dataframe tbody tr th:only-of-type {\n        vertical-align: middle;\n    }\n\n    .dataframe tbody tr th {\n        vertical-align: top;\n    }\n\n    .dataframe thead th {\n        text-align: right;\n    }\n</style>\n<table border=\"1\" class=\"dataframe\">\n  <thead>\n    <tr style=\"text-align: right;\">\n      <th></th>\n      <th>excerpt</th>\n      <th>target</th>\n    </tr>\n  </thead>\n  <tbody>\n    <tr>\n      <th>0</th>\n      <td>When the young people returned to the ballroom...</td>\n      <td>-0.340259</td>\n    </tr>\n    <tr>\n      <th>1</th>\n      <td>All through dinner time, Mrs. Fayre was somewh...</td>\n      <td>-0.315372</td>\n    </tr>\n    <tr>\n      <th>2</th>\n      <td>As Roger had predicted, the snow departed as q...</td>\n      <td>-0.580118</td>\n    </tr>\n    <tr>\n      <th>3</th>\n      <td>And outside before the palace a great garden w...</td>\n      <td>-1.054013</td>\n    </tr>\n    <tr>\n      <th>4</th>\n      <td>Once upon a time there were Three Bears who li...</td>\n      <td>0.247197</td>\n    </tr>\n    <tr>\n      <th>...</th>\n      <td>...</td>\n      <td>...</td>\n    </tr>\n    <tr>\n      <th>2829</th>\n      <td>When you think of dinosaurs and where they liv...</td>\n      <td>1.711390</td>\n    </tr>\n    <tr>\n      <th>2830</th>\n      <td>So what is a solid? Solids are usually hard be...</td>\n      <td>0.189476</td>\n    </tr>\n    <tr>\n      <th>2831</th>\n      <td>The second state of matter we will discuss is ...</td>\n      <td>0.255209</td>\n    </tr>\n    <tr>\n      <th>2832</th>\n      <td>Solids are shapes that you can actually touch....</td>\n      <td>-0.215279</td>\n    </tr>\n    <tr>\n      <th>2833</th>\n      <td>Animals are made of many cells. They eat thing...</td>\n      <td>0.300779</td>\n    </tr>\n  </tbody>\n</table>\n<p>2834 rows × 2 columns</p>\n</div>"
     },
     "metadata": {},
     "execution_count": 57
    }
   ],
   "source": [
    "df_train_w = df[['excerpt']]\n",
    "df_train_w['target'] = df[['target']]\n",
    "df_train_w"
   ]
  },
  {
   "cell_type": "code",
   "execution_count": 58,
   "metadata": {},
   "outputs": [],
   "source": [
    "df_train_w.to_csv('data/cleaned df_train with stopword.csv', index=False)"
   ]
  }
 ]
}