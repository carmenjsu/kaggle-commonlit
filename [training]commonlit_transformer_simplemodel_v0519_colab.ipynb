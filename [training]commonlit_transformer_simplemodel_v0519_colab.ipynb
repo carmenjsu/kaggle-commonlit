{
  "nbformat": 4,
  "nbformat_minor": 0,
  "metadata": {
    "kernelspec": {
      "language": "python",
      "display_name": "Python 3",
      "name": "python3"
    },
    "language_info": {
      "name": "python",
      "version": "3.7.10",
      "mimetype": "text/x-python",
      "codemirror_mode": {
        "name": "ipython",
        "version": 3
      },
      "pygments_lexer": "ipython3",
      "nbconvert_exporter": "python",
      "file_extension": ".py"
    },
    "colab": {
      "name": "training-commonlit-readability-bertmodel.ipynb",
      "provenance": []
    },
    "accelerator": "GPU"
  },
  "cells": [
    {
      "cell_type": "code",
      "metadata": {
        "id": "BaDHukfFZUsG"
      },
      "source": [
        "from google.colab import drive\n",
        "drive.mount('/content/drive/')\n",
        "!pip install torchsummary\n",
        "!pip install transformers"
      ],
      "execution_count": null,
      "outputs": []
    },
    {
      "cell_type": "markdown",
      "metadata": {
        "id": "DTcov9tllvFe"
      },
      "source": [
        "# import module "
      ]
    },
    {
      "cell_type": "code",
      "metadata": {
        "_uuid": "8f2839f25d086af736a60e9eeb907d3b93b6e0e5",
        "_cell_guid": "b1076dfc-b9ad-4769-8c92-a6c4dae69d19",
        "trusted": true,
        "id": "sjY9LZG4bOep"
      },
      "source": [
        "import math,os,cv2,random\n",
        "from tqdm import tqdm\n",
        "import pandas as pd\n",
        "import numpy as np\n",
        "\n",
        "#torch\n",
        "import torch\n",
        "import torch.nn as nn\n",
        "from torch.nn import Parameter\n",
        "from torch.nn import functional as F\n",
        "from torch.utils.data import Dataset,DataLoader\n",
        "from torch.optim import Adam\n",
        "from torch.optim.lr_scheduler import _LRScheduler\n",
        "from torch.optim import Adam, lr_scheduler\n",
        "\n",
        "#transformers\n",
        "import transformers\n",
        "from transformers import AdamW\n",
        "from transformers import get_linear_schedule_with_warmup,get_cosine_schedule_with_warmup\n",
        "from transformers import get_cosine_with_hard_restarts_schedule_with_warmup\n",
        "\n",
        "# exclude warnings\n",
        "import warnings\n",
        "warnings.simplefilter('ignore')"
      ],
      "execution_count": 9,
      "outputs": []
    },
    {
      "cell_type": "markdown",
      "metadata": {
        "id": "1Y7jtZTHlziV"
      },
      "source": [
        "# read csv file"
      ]
    },
    {
      "cell_type": "code",
      "metadata": {
        "trusted": true,
        "id": "G-WUG2jGbOew"
      },
      "source": [
        "trainpath = \"/content/drive/MyDrive/kaggle/furugori/CommonLit Readability Prize/data/train.csv\"\n",
        "df = pd.read_csv(trainpath)\n",
        "df = df[['id','excerpt','target','standard_error']]\n",
        "df.head()"
      ],
      "execution_count": null,
      "outputs": []
    },
    {
      "cell_type": "code",
      "metadata": {
        "colab": {
          "base_uri": "https://localhost:8080/",
          "height": 37
        },
        "id": "chwDN8HbcjrM",
        "outputId": "d5386b97-fe68-4f58-df10-04ba4e1ebad8"
      },
      "source": [
        "\"\"\"\n",
        "cdf = pd.read_csv(\"/content/drive/MyDrive/kaggle/furugori/CommonLit Readability Prize/data/df_train_stopword.csv\")\n",
        "cdf.head()\n",
        "\"\"\""
      ],
      "execution_count": 6,
      "outputs": [
        {
          "output_type": "execute_result",
          "data": {
            "application/vnd.google.colaboratory.intrinsic+json": {
              "type": "string"
            },
            "text/plain": [
              "'\\ncdf = pd.read_csv(\"/content/drive/MyDrive/kaggle/furugori/CommonLit Readability Prize/data/df_train_stopword.csv\")\\ncdf.head()\\n'"
            ]
          },
          "metadata": {
            "tags": []
          },
          "execution_count": 6
        }
      ]
    },
    {
      "cell_type": "markdown",
      "metadata": {
        "id": "zIjQy7tCl2cn"
      },
      "source": [
        "# Make Cross validation folder\n",
        "cross validation score each fold  \n",
        "fold 0: 0.49  \n",
        "fold 1: 0.52  \n",
        "fold 2: 0.50  \n",
        "fold 3: 0.51  \n",
        "fold 4: 0.50  \n",
        "LB score: 0.497"
      ]
    },
    {
      "cell_type": "code",
      "metadata": {
        "trusted": true,
        "id": "x0-DwheTbOey"
      },
      "source": [
        "from sklearn.model_selection import KFold, StratifiedKFold\n",
        "from sklearn.metrics import mean_squared_error\n",
        "\n",
        "RANDOM_STATE = 42\n",
        "fold = 2\n",
        "\n",
        "kfold = KFold(n_splits=5, random_state=RANDOM_STATE, shuffle=True)\n",
        "skfold = StratifiedKFold(n_splits=5, random_state=RANDOM_STATE, shuffle=True)\n",
        "splits= kfold.split(df)\n",
        "for i,(train_index, test_index) in enumerate(splits):\n",
        "    print(train_index.shape,test_index.shape)\n",
        "    df_train, df_test = df.iloc[train_index,:],df.iloc[test_index,:]\n",
        "    df_train, df_test = df_train.reset_index(drop=True), df_test.reset_index(drop=True)\n",
        "    if i==fold:\n",
        "        break"
      ],
      "execution_count": null,
      "outputs": []
    },
    {
      "cell_type": "markdown",
      "metadata": {
        "id": "YeFoZ4KlqVQL"
      },
      "source": [
        "# define the device and fix the seed"
      ]
    },
    {
      "cell_type": "code",
      "metadata": {
        "trusted": true,
        "id": "hwEZSSqybOey"
      },
      "source": [
        "def set_seed(seed: int = 42):\n",
        "    random.seed(seed)\n",
        "    np.random.seed(seed)\n",
        "    os.environ[\"PYTHONHASHSEED\"] = str(seed)\n",
        "    torch.manual_seed(seed)\n",
        "    torch.cuda.manual_seed(seed)  # type: ignore\n",
        "    torch.backends.cudnn.deterministic = True  # type: ignore\n",
        "    torch.backends.cudnn.benchmark = True  # type: ignore\n",
        "\n",
        "device = torch.device(\"cuda\" if torch.cuda.is_available() else \"cpu\")\n",
        "set_seed(RANDOM_STATE)"
      ],
      "execution_count": 10,
      "outputs": []
    },
    {
      "cell_type": "code",
      "metadata": {
        "trusted": true,
        "id": "-UjciTdFbOey"
      },
      "source": [
        "class traindataset(Dataset):\n",
        "    def __init__(self, df, max_len):\n",
        "        self.df = df\n",
        "        self.max_len = max_len\n",
        "        self.tokenizer = transformers.AutoTokenizer.from_pretrained(cfg.transformer_model)\n",
        "\n",
        "    def __len__(self):\n",
        "        return self.df.shape[0]\n",
        "\n",
        "    def __getitem__(self, index):\n",
        "        row = self.df.iloc[index]\n",
        "        text = row.excerpt\n",
        "        text = self.tokenizer(text, padding='max_length', truncation=True, max_length=self.max_len, return_tensors=\"pt\")\n",
        "        ids = text[\"input_ids\"][0]\n",
        "        mask = text[\"attention_mask\"][0]\n",
        "        \n",
        "        return {\n",
        "            \"input_ids\": torch.tensor(ids),\n",
        "            \"attention_mask\": torch.tensor(mask),\n",
        "        },torch.tensor(row.target)"
      ],
      "execution_count": 43,
      "outputs": []
    },
    {
      "cell_type": "code",
      "metadata": {
        "trusted": true,
        "id": "zXt8N1lfbOez"
      },
      "source": [
        "def train_fn(loader,model,criterion,optimizer,device,scheduler,epoch):\n",
        "    model.train()\n",
        "    \n",
        "    allpreds = []\n",
        "    alltargets = []\n",
        "    \n",
        "    for b_idx, (data,target) in enumerate(loader):\n",
        "        for key, value in data.items():\n",
        "            data[key] = value.to(device)\n",
        "\n",
        "        optimizer.zero_grad()\n",
        "        output = model(**data)\n",
        "        output = output.logits.squeeze(-1)\n",
        "        target = target.to(device).float()\n",
        "        loss = criterion(output,target)\n",
        "        loss.backward()\n",
        "        optimizer.step()\n",
        "        \n",
        "        allpreds.append(output.detach().cpu().numpy())\n",
        "        alltargets.append(target.detach().squeeze(-1).cpu().numpy())\n",
        "        if b_idx%50==0:\n",
        "            print(b_idx,len(loader),loss.item(),scheduler.get_lr()[0])\n",
        "        if scheduler is not None:\n",
        "            scheduler.step()\n",
        "    allpreds = np.concatenate(allpreds)\n",
        "    alltargets = np.concatenate(alltargets)\n",
        "    train_rme_loss = np.sqrt(mean_squared_error(alltargets,allpreds))\n",
        "    print(f\"rmse_score:{train_rme_loss}\")\n",
        "        \n",
        "def val_fn(loader,model,criterion,optimizer,device,scheduler):\n",
        "    model.eval()\n",
        "    \n",
        "    allpreds = []\n",
        "    alltargets = []\n",
        "    \n",
        "    with torch.no_grad():\n",
        "        for b_idx, (data,target) in enumerate(loader):\n",
        "            for key, value in data.items():\n",
        "                data[key] = value.to(device)\n",
        "\n",
        "            output = model(**data)\n",
        "            output = output.logits.squeeze(-1)#.detach().cpu().numpy()\n",
        "\n",
        "            allpreds.append(output.detach().cpu().numpy())\n",
        "            alltargets.append(target.detach().squeeze(-1).cpu().numpy())\n",
        "            if b_idx%20==0:\n",
        "                print(b_idx,len(loader))\n",
        "        allpreds = np.concatenate(allpreds)\n",
        "        alltargets = np.concatenate(alltargets)\n",
        "        train_rme_loss = np.sqrt(mean_squared_error(alltargets,allpreds))\n",
        "        print(f\"rmse_score:{train_rme_loss}\")"
      ],
      "execution_count": 44,
      "outputs": []
    },
    {
      "cell_type": "code",
      "metadata": {
        "trusted": true,
        "id": "5vquG9kNbOez"
      },
      "source": [
        "def run():\n",
        "\n",
        "    model = transformers.AutoModelForSequenceClassification.from_pretrained(cfg.transformer_model,num_labels=1).to(device)\n",
        "    if cfg.init_headparam:\n",
        "      nn.init.xavier_normal_(model.classifier.dense.weight)\n",
        "      nn.init.constant_(model.classifier.dense.bias,0)\n",
        "      nn.init.xavier_normal_(model.classifier.out_proj.weight)\n",
        "      nn.init.constant_(model.classifier.out_proj.bias,0)\n",
        "\n",
        "    #model.load_state_dict(torch.load('/content/drive/MyDrive/kaggle/furugori/CommonLit Readability Prize/inference_weight/bertmodel_9.pt'))\n",
        "    train_ds = traindataset(df=df_train, max_len=cfg.max_len)\n",
        "    train_loader = torch.utils.data.DataLoader(train_ds, \n",
        "                                               batch_size=cfg.TRAIN_BATCH_SIZE, \n",
        "                                               num_workers=2, \n",
        "                                               pin_memory=True, \n",
        "                                               shuffle=True)\n",
        "    test_ds = traindataset(df=df_test, max_len=cfg.max_len)\n",
        "    val_loader = torch.utils.data.DataLoader(test_ds, \n",
        "                                               batch_size=cfg.TRAIN_BATCH_SIZE, \n",
        "                                               num_workers=2, \n",
        "                                               pin_memory=True, \n",
        "                                               shuffle=False)\n",
        "    param_optimizer = list(model.named_parameters())\n",
        "    no_decay = cfg.nodecay_layer\n",
        "    optimizer_parameters = [\n",
        "        {'params': [p for n, p in param_optimizer if not any(nd in n for nd in no_decay)], 'weight_decay': cfg.weight_decay},\n",
        "        {'params': [p for n, p in param_optimizer if any(nd in n for nd in no_decay)], 'weight_decay': 0},]  \n",
        "    optimizer = AdamW(optimizer_parameters,lr= cfg.LR,betas=(0.9, 0.999)) \n",
        "    train_steps = int(len(train_loader)*cfg.EPOCHS)\n",
        "    num_steps = int(train_steps*cfg.warmuprate)\n",
        "    scheduler = get_linear_schedule_with_warmup(optimizer, num_steps, train_steps)\n",
        "    criterion = nn.MSELoss()\n",
        "    val_fn(val_loader,model,criterion,optimizer,device,scheduler)\n",
        "    for epoch in range(cfg.EPOCHS):\n",
        "        train_fn(train_loader,model,criterion,optimizer,device,scheduler,epoch)\n",
        "        \n",
        "        if epoch%1==0:\n",
        "            val_fn(val_loader,model,criterion,optimizer,device,scheduler)\n",
        "            torch.save(model.state_dict(),cfg.wpath + f\"bertmodel_{epoch}.pt\")\n",
        "            print(f\"save epoch_{epoch}\")"
      ],
      "execution_count": 45,
      "outputs": []
    },
    {
      "cell_type": "code",
      "metadata": {
        "id": "G7j6MyCLm_GQ"
      },
      "source": [
        "\"important parameter is LR,max_len,weight_decay,warmuprate.\"\n",
        "\"init_headparam is always True.\"\n",
        "\"my bestfit model is (LR,max_len,weight_decay,warmuprate)=(2e-5,256,0.01,0.1) in fold 0\"\n",
        "\"my bestfit model is (LR,max_len,weight_decay,warmuprate)=(2e-5,256,0.01,0.5) in fold 1\"\n",
        "class cfg:\n",
        "    NUM_WORKERS = 2\n",
        "    TRAIN_BATCH_SIZE = 8\n",
        "    wpath = \"/content/drive/MyDrive/kaggle/furugori/CommonLit Readability Prize/inference_weight/\"\n",
        "    SEED = 2020\n",
        "    #important learning parameter (finetunning target)\n",
        "\n",
        "    # epoch assign the five, but our training in the best model is finished near 3 epochs. \n",
        "    EPOCHS = 5\n",
        "    warmuprate = 0.3\n",
        "    LR = 2e-5\n",
        "    # feature vector parameter\n",
        "    max_len = 256\n",
        "\n",
        "    #weight parameter (finetunning target)\n",
        "    weight_decay = 0.01\n",
        "    nodecay_layer = [\"bias\", \"LayerNorm.bias\", \"LayerNorm.weight\"]\n",
        "    # weight of classifer layer become initialized.\n",
        "    init_headparam = True\n",
        "    transformer_model = \"distilroberta-base\""
      ],
      "execution_count": 72,
      "outputs": []
    },
    {
      "cell_type": "code",
      "metadata": {
        "trusted": true,
        "id": "UHtSEyLHbOez"
      },
      "source": [
        "run()"
      ],
      "execution_count": null,
      "outputs": []
    },
    {
      "cell_type": "code",
      "metadata": {
        "id": "xEn2a3A7bOe0"
      },
      "source": [
        ""
      ],
      "execution_count": null,
      "outputs": []
    }
  ]
}